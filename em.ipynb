{
 "cells": [
  {
   "cell_type": "code",
   "execution_count": 8,
   "metadata": {},
   "outputs": [
    {
     "name": "stdout",
     "output_type": "stream",
     "text": [
      "Начальные данные: p1 = 0.827260, p2 = 0.172740, m1 = 0.929056, m2 = 0.941601\n",
      "\n",
      "iter: 0|| p1: 0.946134|| p2: 0.053866|| m1: 0.264758|| m2: 0.362072\n",
      "iter: 1|| p1: 0.933969|| p2: 0.066031|| m1: 0.255061|| m2: 0.481305\n",
      "iter: 2|| p1: 0.892396|| p2: 0.107604|| m1: 0.227867|| m2: 0.619422\n",
      "iter: 3|| p1: 0.865021|| p2: 0.134979|| m1: 0.210097|| m2: 0.653893\n",
      "iter: 4|| p1: 0.857230|| p2: 0.142770|| m1: 0.206393|| m2: 0.651911\n",
      "iter: 5|| p1: 0.853694|| p2: 0.146306|| m1: 0.205270|| m2: 0.647699\n",
      "iter: 6|| p1: 0.851562|| p2: 0.148438|| m1: 0.204685|| m2: 0.644702\n",
      "iter: 7|| p1: 0.850186|| p2: 0.149814|| m1: 0.204321|| m2: 0.642725\n",
      "iter: 8|| p1: 0.849284|| p2: 0.150716|| m1: 0.204086|| m2: 0.641425\n",
      "iter: 9|| p1: 0.848688|| p2: 0.151312|| m1: 0.203932|| m2: 0.640567\n",
      "iter: 10|| p1: 0.848293|| p2: 0.151707|| m1: 0.203830|| m2: 0.639999\n",
      "iter: 11|| p1: 0.848031|| p2: 0.151969|| m1: 0.203763|| m2: 0.639622\n",
      "iter: 12|| p1: 0.847856|| p2: 0.152144|| m1: 0.203718|| m2: 0.639371\n",
      "iter: 13|| p1: 0.847740|| p2: 0.152260|| m1: 0.203688|| m2: 0.639204\n",
      "iter: 14|| p1: 0.847663|| p2: 0.152337|| m1: 0.203669|| m2: 0.639093\n",
      "iter: 15|| p1: 0.847611|| p2: 0.152389|| m1: 0.203655|| m2: 0.639019\n",
      "iter: 16|| p1: 0.847576|| p2: 0.152424|| m1: 0.203647|| m2: 0.638969\n"
     ]
    }
   ],
   "source": [
    "import numpy as np\n",
    "import scipy.stats as ss\n",
    "\n",
    "y = np.array([7, 7, 1, 3, 2, 1, 5, 1, 4, 0, 2, 3, 3, 1, 2, 2, 3, 1, 4, 0, 8, 3, 5, 3, 0, 0, 7, 1, 1, 3, 1, 3, 2, 4, 1, 6, 2, 2, 4, 1, 3, 1, 1, 2, 7, 3, 3, 2, 2, 2])\n",
    "M = 10\n",
    "\n",
    "def e(x, M, a1,a2, b):\n",
    "    znam = ss.binom.pmf(x,M,a1)*b + ss.binom.pmf(x,M,a2)*(1-b)\n",
    "    y1 = (ss.binom.pmf(x,M,a1)*b) / znam\n",
    "    y2 = (ss.binom.pmf(x,M,a2)*b) / znam\n",
    "    return y1, y2\n",
    "\n",
    "def m(x,M,a1,a2):\n",
    "    mu1 = sum(x*a1) / (M*sum(a1))\n",
    "    mu2 = sum(x*a2) / (M*sum(a2))\n",
    "    q = sum(a1) / len(x)\n",
    "    return q, 1-q, mu1, mu2\n",
    "\n",
    "def check(a1,a1n,a2,a2n,b1,b1n):\n",
    "    return np.sqrt((a1 - a1n)**2 + (a2 - a2n)**2 + 2*(b1 - b1n)**2) \n",
    "    \n",
    "\n",
    "m1 = np.random.random()\n",
    "m2 = np.random.random()\n",
    "p1 = np.random.random()\n",
    "p2 = 1-p1\n",
    "i=0\n",
    "print(\"Начальные данные: p1 = %f, p2 = %f, m1 = %f, m2 = %f\\n\" % (p1,p2,m1,m2))\n",
    "#print(\"\")\n",
    "while True:\n",
    "    w1, w2 = e(y, M, m1, m2, p1)\n",
    "    p1n, p2n, m1n, m2n = m(y,M,w1,w2)\n",
    "    print(\"iter: %d|| p1: %f|| p2: %f|| m1: %f|| m2: %f\" % (i,p1n,p2n,m1n,m2n))\n",
    "    i+=1\n",
    "    if check(m1,m1n,m2,m2n,p1,p1n) < 0.0001:\n",
    "        break\n",
    "        \n",
    "    m1,m2,p1=m1n, m2n,p1n\n",
    "    \n",
    "    \n",
    "    "
   ]
  },
  {
   "cell_type": "code",
   "execution_count": null,
   "metadata": {},
   "outputs": [],
   "source": []
  }
 ],
 "metadata": {
  "kernelspec": {
   "display_name": "Python 3",
   "language": "python",
   "name": "python3"
  },
  "language_info": {
   "codemirror_mode": {
    "name": "ipython",
    "version": 3
   },
   "file_extension": ".py",
   "mimetype": "text/x-python",
   "name": "python",
   "nbconvert_exporter": "python",
   "pygments_lexer": "ipython3",
   "version": "3.7.1"
  }
 },
 "nbformat": 4,
 "nbformat_minor": 2
}
