{
 "cells": [
  {
   "cell_type": "code",
   "execution_count": 9,
   "metadata": {},
   "outputs": [
    {
     "name": "stdout",
     "output_type": "stream",
     "text": [
      "Начальные данные: p1 = 0.086070, p2 = 0.913930, m1 = 0.744861, m2 = 0.181187\n",
      "\n",
      "iter: 0|| p1: 0.126972|| p2: 0.873028|| m1: 0.681543|| m2: 0.210146\n",
      "iter: 1|| p1: 0.135720|| p2: 0.864280|| m1: 0.663611|| m2: 0.208190\n",
      "iter: 2|| p1: 0.141679|| p2: 0.858321|| m1: 0.654544|| m2: 0.206525\n",
      "iter: 3|| p1: 0.145454|| p2: 0.854546|| m1: 0.649034|| m2: 0.205484\n",
      "iter: 4|| p1: 0.147872|| p2: 0.852128|| m1: 0.645531|| m2: 0.204833\n",
      "iter: 5|| p1: 0.149442|| p2: 0.850558|| m1: 0.643262|| m2: 0.204418\n",
      "iter: 6|| p1: 0.150471|| p2: 0.849529|| m1: 0.641778|| m2: 0.204150\n",
      "iter: 7|| p1: 0.151149|| p2: 0.848851|| m1: 0.640801|| m2: 0.203974\n",
      "iter: 8|| p1: 0.151599|| p2: 0.848401|| m1: 0.640154|| m2: 0.203858\n",
      "iter: 9|| p1: 0.151897|| p2: 0.848103|| m1: 0.639725|| m2: 0.203781\n",
      "iter: 10|| p1: 0.152096|| p2: 0.847904|| m1: 0.639440|| m2: 0.203730\n",
      "iter: 11|| p1: 0.152228|| p2: 0.847772|| m1: 0.639250|| m2: 0.203697\n",
      "iter: 12|| p1: 0.152316|| p2: 0.847684|| m1: 0.639123|| m2: 0.203674\n",
      "iter: 13|| p1: 0.152375|| p2: 0.847625|| m1: 0.639039|| m2: 0.203659\n",
      "iter: 14|| p1: 0.152414|| p2: 0.847586|| m1: 0.638983|| m2: 0.203649\n"
     ]
    }
   ],
   "source": [
    "import numpy as np\n",
    "import scipy.stats as ss\n",
    "\n",
    "y = np.array([7, 7, 1, 3, 2, 1, 5, 1, 4, 0, 2, 3, 3, 1, 2, 2, 3, 1, 4, 0, 8, 3, 5, 3, 0, 0, 7, 1, 1, 3, 1, 3, 2, 4, 1, 6, 2, 2, 4, 1, 3, 1, 1, 2, 7, 3, 3, 2, 2, 2])\n",
    "M = 10\n",
    "\n",
    "def e(x, M, a1,a2, b):\n",
    "    znam = ss.binom.pmf(x,M,a1)*b + ss.binom.pmf(x,M,a2)*(1-b)\n",
    "    y1 = (ss.binom.pmf(x,M,a1)*b) / znam\n",
    "    y2 = (ss.binom.pmf(x,M,a2)*b) / znam\n",
    "    return y1, y2\n",
    "\n",
    "def m(x,M,a1,a2):\n",
    "    mu1 = sum(x*a1) / (M*sum(a1))\n",
    "    mu2 = sum(x*a2) / (M*sum(a2))\n",
    "    q = sum(a1) / len(x)\n",
    "    return q, 1-q, mu1, mu2\n",
    "\n",
    "def check(a1,a1n,a2,a2n,b1,b1n):\n",
    "    return np.sqrt((a1 - a1n)**2 + (a2 - a2n)**2 + 2*(b1 - b1n)**2) \n",
    "    \n",
    "\n",
    "m1 = np.random.random()\n",
    "m2 = np.random.random()\n",
    "p1 = np.random.random()\n",
    "p2 = 1-p1\n",
    "i=0\n",
    "print(\"Начальные данные: p1 = %f, p2 = %f, m1 = %f, m2 = %f\\n\" % (p1,p2,m1,m2))\n",
    "\n",
    "while True:\n",
    "    w1, w2 = e(y, M, m1, m2, p1)\n",
    "    p1n, p2n, m1n, m2n = m(y,M,w1,w2)\n",
    "    print(\"iter: %d|| p1: %f|| p2: %f|| m1: %f|| m2: %f\" % (i,p1n,p2n,m1n,m2n))\n",
    "    i+=1\n",
    "    if check(m1,m1n,m2,m2n,p1,p1n) < 0.0001:\n",
    "        break\n",
    "        \n",
    "    m1,m2,p1=m1n, m2n,p1n\n",
    "    \n",
    "    \n",
    "    "
   ]
  },
  {
   "cell_type": "code",
   "execution_count": null,
   "metadata": {},
   "outputs": [],
   "source": []
  }
 ],
 "metadata": {
  "kernelspec": {
   "display_name": "Python 3",
   "language": "python",
   "name": "python3"
  },
  "language_info": {
   "codemirror_mode": {
    "name": "ipython",
    "version": 3
   },
   "file_extension": ".py",
   "mimetype": "text/x-python",
   "name": "python",
   "nbconvert_exporter": "python",
   "pygments_lexer": "ipython3",
   "version": "3.7.1"
  }
 },
 "nbformat": 4,
 "nbformat_minor": 2
}
