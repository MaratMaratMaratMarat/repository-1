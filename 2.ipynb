{
 "cells": [
  {
   "cell_type": "code",
   "execution_count": 7,
   "metadata": {},
   "outputs": [],
   "source": [
    "import numpy as np\n",
    "import random\n",
    "import scipy\n",
    "import math"
   ]
  },
  {
   "cell_type": "code",
   "execution_count": 37,
   "metadata": {},
   "outputs": [
    {
     "name": "stdout",
     "output_type": "stream",
     "text": [
      "Array:\n",
      "[[0.45035848 0.56094311 0.7368813 ]\n",
      " [0.58145794 0.40691351 0.62391305]\n",
      " [0.77448587 0.03690024 0.0820466 ]\n",
      " [0.65197312 0.93110555 0.09948035]\n",
      " [0.9082399  0.07334767 0.44412246]\n",
      " [0.89835316 0.58924358 0.08785893]\n",
      " [0.54044813 0.31264203 0.7019777 ]\n",
      " [0.14458712 0.44413058 0.13413595]\n",
      " [0.40876464 0.17158652 0.75490514]\n",
      " [0.05550783 0.45230585 0.21305682]]\n",
      "\n",
      "Numbers:\n",
      "0.4503584773995345\n",
      "0.5814579405049803\n",
      "0.7744858665079534\n",
      "0.6519731194869599\n",
      "0.44412246437721836\n",
      "0.5892435820270467\n",
      "0.540448126554992\n",
      "0.4441305813186932\n",
      "0.40876464457454376\n",
      "0.45230584544817587\n"
     ]
    }
   ],
   "source": [
    "#  1   \n",
    "#Создайте двумерный массив 10x3, заполненный случайными значениями.\n",
    "#В каждой строке выберите значение, наиболее близкое к 0.5\n",
    "a = np.random.random((10,3))\n",
    "i=0\n",
    "\n",
    "print(\"Array:\")\n",
    "print(a)\n",
    "print(\"\")\n",
    "print(\"Numbers:\")\n",
    "\n",
    "for i in range(10):\n",
    "    if (abs(a[i,0]-0.5) >= abs(a[i,1]-0.5)):\n",
    "        if abs(a[i,2] - 0.5) >= abs(a[i,1] - 0.5):\n",
    "            print(a[i,1])\n",
    "        else:\n",
    "            print(a[i,2])\n",
    "    else:\n",
    "        if abs(a[i,2]-0.5) >= abs(a[i,0]-0.5):\n",
    "            print(a[i,0])\n",
    "        else:\n",
    "            print(a[i,2])\n"
   ]
  },
  {
   "cell_type": "code",
   "execution_count": 16,
   "metadata": {},
   "outputs": [
    {
     "name": "stdout",
     "output_type": "stream",
     "text": [
      "Matrix: \n",
      "[[0.53098431 0.40041971 0.64961216 0.72881689 0.41296026 0.52768632]\n",
      " [0.86225502 0.61223991 0.10467288 0.74785053 0.09019195 0.74113859]\n",
      " [0.22371635 0.27146074 0.25782633 0.10261386 0.22045647 0.80380007]\n",
      " [0.65512726 0.40126964 0.47127801 0.80357018 0.19880961 0.88393067]\n",
      " [0.09530062 0.71655186 0.81794819 0.0746631  0.09342497 0.68064577]\n",
      " [0.68381674 0.76209206 0.20490702 0.70631796 0.2267673  0.49326803]]\n",
      "\n",
      "minimum line =  [0.0953006195550391, 0.271460738420916, 0.1046728807296784, 0.07466309821041262, 0.09019195492094689, 0.49326803288027943]\n",
      "\n",
      "amount line =  [3.2504796453019953, 3.158348878334217, 1.8798738261042207, 3.4139853575649166, 2.4785345162252614, 3.077169111494527]\n",
      "\n",
      "Now the matrix A is:  \n",
      "[[34.10764443 11.97403228 31.05369435 43.53529017 36.03957413  6.58968234]\n",
      " [33.14090604 11.63464336 30.17351635 42.30133699 35.01807762  6.40290606]\n",
      " [19.72572513  6.92503025 17.9595117  25.17808491 20.84303226  3.81105951]\n",
      " [35.82332805 12.57635037 32.6157581  45.72520347 37.85243773  6.92115671]\n",
      " [26.00753833  9.13036092 23.67886026 33.19624521 27.48066076  5.02472155]\n",
      " [32.28907772 11.33559545 29.39795953 41.21405601 34.11799993  6.2383307 ]]\n"
     ]
    }
   ],
   "source": [
    "#   2\n",
    "#Создайте двумерный массив 6x6, заполненный случайными значениями. \n",
    "#Затем сумму по каждой строке поделите на минимальный элемент\n",
    "#из столбца с тем же индексом.\n",
    "\n",
    "\n",
    "a = np.random.random((6,6))\n",
    "print(\"Matrix: \")\n",
    "print(a)\n",
    "print(\"\")\n",
    "\n",
    "j=0\n",
    "b=[]\n",
    "\n",
    "for j in range(6):\n",
    "    minim = a[0,j]\n",
    "    for i in range(6):\n",
    "        if (a[i,j] < minim):\n",
    "            minim = a[i,j]\n",
    "    b.append(minim)\n",
    "    \n",
    "print(\"minimum line =  \" + str(b))\n",
    "print(\"\")\n",
    "\n",
    "i=0\n",
    "j=0\n",
    "s=0\n",
    "c=[]\n",
    "for i in range(6):\n",
    "    for j in range(6):\n",
    "        s += a[i,j]\n",
    "    c.append(s)\n",
    "    s=0\n",
    "\n",
    "print(\"amount line =  \" + str(c))\n",
    "print(\"\")\n",
    "i=0\n",
    "j=0\n",
    "\n",
    "for i in range(6):\n",
    "    for j in range(6):\n",
    "        a[i,j] = c[i] / b[j]\n",
    "        \n",
    "print(\"Now the matrix A is:  \")\n",
    "print(a)\n"
   ]
  },
  {
   "cell_type": "code",
   "execution_count": null,
   "metadata": {},
   "outputs": [],
   "source": []
  },
  {
   "cell_type": "code",
   "execution_count": 23,
   "metadata": {},
   "outputs": [
    {
     "name": "stdout",
     "output_type": "stream",
     "text": [
      "5\n"
     ]
    }
   ],
   "source": [
    "# На примере массива x = np.array([6, 2, 0, 3, 0, 0, 5, 7, 0]) \n",
    "# найдите максимальный элемент в массиве среди элементов,\n",
    "# перед которыми стоит ноль.\n",
    "\n",
    "x = np.array([6, 2, 0, 3, 0, 0, 5, 7, 0])\n",
    "\n",
    "mi=0\n",
    "for i in range (1,7):\n",
    "    if x[i-1]==0:\n",
    "        if x[i] > mi :\n",
    "            mi = x[i]\n",
    "print(mi)\n",
    "        \n"
   ]
  },
  {
   "cell_type": "code",
   "execution_count": 32,
   "metadata": {},
   "outputs": [
    {
     "name": "stdout",
     "output_type": "stream",
     "text": [
      "Before: \n",
      "[1. 1. 1. 1. 1. 1. 1. 1. 1. 1.]\n",
      "After: \n",
      "[2. 2. 2. 2. 1. 4. 1. 1. 2. 1.]\n"
     ]
    }
   ],
   "source": [
    "# Пусть заданы два массива x = np.ones(10) и \n",
    "# a = np.array([0, 1, 2, 3, 5, 5, 5, 8]). Прибавьте единицу к тем элементам \n",
    "# массива x, индексы которых указаны в массиве a. В случае, если некоторый\n",
    "# индекс встретился в массиве a несколько раз, прибавьте к соответствующему \n",
    "# элементу массива x число вхождений данного индекса в массив a.\n",
    "\n",
    "x=np.ones(10)\n",
    "a=np.array([0, 1, 2, 3, 5, 5, 5, 8])\n",
    "\n",
    "\n",
    "print(\"Before: \")\n",
    "print(x)\n",
    "\n",
    "for i in range(9):\n",
    "    for j in range(8):\n",
    "        if a[j] == i :\n",
    "            x[i] += 1\n",
    "            \n",
    "print(\"After: \")\n",
    "print(x)\n",
    "\n"
   ]
  },
  {
   "cell_type": "code",
   "execution_count": 54,
   "metadata": {},
   "outputs": [
    {
     "name": "stdout",
     "output_type": "stream",
     "text": [
      "Matrix: \n",
      "[[ 0  1  2  3]\n",
      " [ 4  5  6  7]\n",
      " [ 8  9 10 11]\n",
      " [12 13 14 15]]\n",
      "\n",
      "dict = \n",
      "{0: [0], 1: [1, 4], 2: [2, 5, 8], 3: [3, 6, 9, 12], 4: [7, 10, 13], 5: [11, 14], 6: [15]}\n"
     ]
    }
   ],
   "source": [
    "# По заданному двумерному массиву размера NxN постройте словарь, \n",
    "# ключи которого - индексы диагоналей, параллельных побочной \n",
    "# (нумерация начинается с 0), а значения - списки элементов исходного массива, \n",
    "# лежащих на соответствующих диагоналях. Решите задачу на примере массива \n",
    "# a = np.arange(16).reshape(4, 4), в результате должен получиться словарь\n",
    "# {0: [0], 1: [1, 4], 2: [2, 5, 8], 3: [3, 6, 9, 12], 4: [7, 10, 13], 5: [11, 14], 6: [15]}.\n",
    "\n",
    "a = np.arange(16).reshape(4, 4)\n",
    "N=4\n",
    "print(\"Matrix: \")\n",
    "print(a)\n",
    "print(\"\")\n",
    "\n",
    "\n",
    "l=[]\n",
    "slov={}\n",
    "i=0; j=0; k=0; p=0\n",
    "\n",
    "for k in range(2*N-1):     #keys\n",
    "    \n",
    "    for i in range (N):\n",
    "        for j in range (N):\n",
    "            if i+j == p :\n",
    "                l.append(a[i,j])\n",
    "    p += 1\n",
    "    slov[k] = l\n",
    "    l = []\n",
    "\n",
    "print(\"dict = \")\n",
    "print(slov)\n",
    "\n",
    "                    \n",
    "\n",
    "\n"
   ]
  },
  {
   "cell_type": "code",
   "execution_count": 15,
   "metadata": {},
   "outputs": [],
   "source": [
    "# K-MEANS   in   R^2\n",
    "\n",
    "def d(a, b, m):\n",
    "    w=0\n",
    "    for i in range(m):\n",
    "        w += (a[i]-b[i])**2\n",
    "    return w\n",
    "\n",
    "def middle(a, b, m):\n",
    "    mid = []\n",
    "    for i in range(n):\n",
    "        mid.append((a[i]-b[i])/2)\n",
    "    return mid\n",
    "\n",
    "\n",
    "a = np.arange(16).reshape(4, 4)\n",
    "\n",
    "n=4\n",
    "m=4\n",
    "k=3 \n",
    "l=[]\n",
    "klasters = {}\n",
    "spisok = []\n",
    "ism = 10\n",
    "\n",
    "for i in range (k):\n",
    "    p = random.randint(0,n-1)\n",
    "    l.append(a[p])\n",
    "    \n",
    "for i in range (k):\n",
    "    t=[]\n",
    "    t.append(l[i])\n",
    "    spisok.append(t)\n",
    "    \n",
    "while ism > 0.1 :\n",
    "    \n",
    "\n",
    "    ism = 0\n",
    "    for i in range (n):  # распределение по кластерам\n",
    "        mi = 1000\n",
    "        for j in range(k):\n",
    "            if d(a[i],l[j],m) < mi :\n",
    "                mi = d(a[i],l[j],m)\n",
    "                \n",
    "                # не проходит\n",
    "                \n",
    "      #          for q in range(k-1):\n",
    "     #               spisok[q].remove(a[i])  #удаление из всех подсписков\n",
    "      #          spisok[j].append(a[i])      #добавление в ЭТОТ подсписок\n",
    "            \n",
    "    for i in range (k):   # пересчет центра масс\n",
    "        dlina = len(spisok[i])  # \n",
    "        mid = spisok[i][0]\n",
    "    \n",
    "        for j in range(1, dlina):\n",
    "            mid = middle(mid, spisok[i][j], m)\n",
    "        ism += d(mid, l[i], m)\n",
    "        l[i] = mid\n",
    "\n",
    "\n",
    "        \n",
    "    \n",
    "    \n",
    "# расстояние точек до каждого из кластеров\n",
    "# минимальное расстояние обозначит принаблежность кластеру\n",
    "# счет центра масс\n",
    "# повтор, пока суммарное изменение не будет меньше порогового epsilon\n",
    "\n",
    "\n",
    "\n",
    "\n"
   ]
  },
  {
   "cell_type": "code",
   "execution_count": 47,
   "metadata": {},
   "outputs": [
    {
     "name": "stdout",
     "output_type": "stream",
     "text": [
      "[array([ 8,  9, 10, 11]), array([12, 13, 14, 15]), array([0, 1, 2, 3])]\n",
      "[12 13 14 15]\n",
      "15\n"
     ]
    }
   ],
   "source": [
    "print(l)\n",
    "print(l[1])\n",
    "print(l[1][3])"
   ]
  },
  {
   "cell_type": "code",
   "execution_count": 71,
   "metadata": {},
   "outputs": [
    {
     "name": "stdout",
     "output_type": "stream",
     "text": [
      "[[1, 3], 2]\n"
     ]
    }
   ],
   "source": [
    "d = []\n",
    "b = []\n",
    "b.append(1)\n",
    "d.append(b)\n",
    "d.append(2)\n",
    "d[0].append(3)\n",
    "\n",
    "print (d)"
   ]
  },
  {
   "cell_type": "code",
   "execution_count": 74,
   "metadata": {},
   "outputs": [
    {
     "ename": "NameError",
     "evalue": "name 'b' is not defined",
     "output_type": "error",
     "traceback": [
      "\u001b[1;31m---------------------------------------------------------------------------\u001b[0m",
      "\u001b[1;31mNameError\u001b[0m                                 Traceback (most recent call last)",
      "\u001b[1;32mcell_name\u001b[0m in \u001b[0;36masync-def-wrapper\u001b[1;34m()\u001b[0m\n",
      "\u001b[1;31mNameError\u001b[0m: name 'b' is not defined"
     ]
    }
   ],
   "source": []
  },
  {
   "cell_type": "code",
   "execution_count": null,
   "metadata": {},
   "outputs": [],
   "source": []
  }
 ],
 "metadata": {
  "kernelspec": {
   "display_name": "Python 3",
   "language": "python",
   "name": "python3"
  },
  "language_info": {
   "codemirror_mode": {
    "name": "ipython",
    "version": 3
   },
   "file_extension": ".py",
   "mimetype": "text/x-python",
   "name": "python",
   "nbconvert_exporter": "python",
   "pygments_lexer": "ipython3",
   "version": "3.7.1"
  }
 },
 "nbformat": 4,
 "nbformat_minor": 2
}
