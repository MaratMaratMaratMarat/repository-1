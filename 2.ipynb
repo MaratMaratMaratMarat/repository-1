{
 "cells": [
  {
   "cell_type": "code",
   "execution_count": 2,
   "metadata": {},
   "outputs": [],
   "source": [
    "import numpy as np\n",
    "import random\n",
    "import scipy\n",
    "import math"
   ]
  },
  {
   "cell_type": "code",
   "execution_count": 17,
   "metadata": {},
   "outputs": [
    {
     "name": "stdout",
     "output_type": "stream",
     "text": [
      "Array:\n",
      "[[0.82829039 0.99827758 0.71359923]\n",
      " [0.17501521 0.02293044 0.96625305]\n",
      " [0.80489029 0.80295352 0.84744872]\n",
      " [0.49456717 0.87975356 0.41748737]\n",
      " [0.62877766 0.6145487  0.13548171]\n",
      " [0.52501494 0.10065029 0.50966503]\n",
      " [0.21074146 0.94624111 0.2848308 ]\n",
      " [0.30314812 0.46202634 0.27284051]\n",
      " [0.79613801 0.90783483 0.52294453]\n",
      " [0.24826023 0.61058604 0.35564502]]\n",
      "\n",
      "Numbers:\n",
      "0.7135992290570913\n",
      "0.17501520933657055\n",
      "0.8029535155783758\n",
      "0.49456716859341365\n",
      "0.6145487032415647\n",
      "0.5096650254764507\n",
      "0.28483079899867425\n",
      "0.4620263359095943\n",
      "0.522944526133075\n",
      "0.6105860370769841\n"
     ]
    }
   ],
   "source": [
    "#  1   \n",
    "#Создайте двумерный массив 10x3, заполненный случайными значениями.\n",
    "#В каждой строке выберите значение, наиболее близкое к 0.5\n",
    "a = np.random.random((10,3))\n",
    "i=0\n",
    "\n",
    "print(\"Array:\")\n",
    "print(a)\n",
    "print(\"\")\n",
    "print(\"Numbers:\")\n",
    "\n",
    "for i in range(10):\n",
    "    if (abs(a[i,0]-0.5) >= abs(a[i,1]-0.5)):\n",
    "        if abs(a[i,2] - 0.5) >= abs(a[i,1] - 0.5):\n",
    "            print(a[i,1])\n",
    "        else:\n",
    "            print(a[i,2])\n",
    "    else:\n",
    "        if abs(a[i,2]-0.5) >= abs(a[i,0]-0.5):\n",
    "            print(a[i,0])\n",
    "        else:\n",
    "            print(a[i,2])\n"
   ]
  },
  {
   "cell_type": "code",
   "execution_count": 18,
   "metadata": {},
   "outputs": [
    {
     "name": "stdout",
     "output_type": "stream",
     "text": [
      "Matrix: \n",
      "[[0.3781217  0.26053694 0.03280237 0.39672322 0.58466575 0.35914533]\n",
      " [0.36978982 0.26487775 0.57006586 0.79386238 0.77806127 0.27441073]\n",
      " [0.84889428 0.53026554 0.84162929 0.3683138  0.41951071 0.79157456]\n",
      " [0.57009927 0.30653086 0.37067129 0.50030443 0.40616632 0.08881601]\n",
      " [0.9769299  0.59896583 0.72539922 0.54791137 0.06121383 0.99487591]\n",
      " [0.81762755 0.17541679 0.89482403 0.95101493 0.68330352 0.59962814]]\n",
      "\n",
      "minimum line =  [0.3697898184546988, 0.17541678979596054, 0.0328023659326413, 0.3683137957089754, 0.06121382761904881, 0.08881600928689037]\n",
      "\n",
      "amount line =  [2.0119953149340897, 3.0510678020724837, 3.800188177574406, 2.242588185246372, 3.9052960495385327, 4.121814946216095]\n",
      "\n",
      "Now the matrix A is:  \n",
      "[[  5.44091593  11.46979897  61.33689622   5.46272048  32.86831412\n",
      "   22.65352081]\n",
      " [  8.25081614  17.39324842  93.01365055   8.2838814   49.8427875\n",
      "   34.35267838]\n",
      " [ 10.27661657  21.66376538 115.85103908  10.31780026  62.08055149\n",
      "   42.78719803]\n",
      " [  6.06449414  12.78434173  68.36665958   6.08879768  36.63532036\n",
      "   25.2498193 ]\n",
      " [ 10.56085337  22.26295473 119.05531624  10.60317614  63.79761243\n",
      "   43.97063188]\n",
      " [ 11.14637218  23.49726586 125.65602599  11.19104143  67.33470372\n",
      "   46.40846824]]\n"
     ]
    }
   ],
   "source": [
    "#   2\n",
    "#Создайте двумерный массив 6x6, заполненный случайными значениями. \n",
    "#Затем сумму по каждой строке поделите на минимальный элемент\n",
    "#из столбца с тем же индексом.\n",
    "\n",
    "\n",
    "a = np.random.random((6,6))\n",
    "print(\"Matrix: \")\n",
    "print(a)\n",
    "print(\"\")\n",
    "\n",
    "j=0\n",
    "b=[]\n",
    "\n",
    "for j in range(6):\n",
    "    minim = a[0,j]\n",
    "    for i in range(6):\n",
    "        if (a[i,j] < minim):\n",
    "            minim = a[i,j]\n",
    "    b.append(minim)\n",
    "    \n",
    "print(\"minimum line =  \" + str(b))\n",
    "print(\"\")\n",
    "\n",
    "i=0\n",
    "j=0\n",
    "s=0\n",
    "c=[]\n",
    "for i in range(6):\n",
    "    for j in range(6):\n",
    "        s += a[i,j]\n",
    "    c.append(s)\n",
    "    s=0\n",
    "\n",
    "print(\"amount line =  \" + str(c))\n",
    "print(\"\")\n",
    "i=0\n",
    "j=0\n",
    "\n",
    "for i in range(6):\n",
    "    for j in range(6):\n",
    "        a[i,j] = c[i] / b[j]\n",
    "        \n",
    "print(\"Now the matrix A is:  \")\n",
    "print(a)\n"
   ]
  },
  {
   "cell_type": "code",
   "execution_count": null,
   "metadata": {},
   "outputs": [],
   "source": []
  },
  {
   "cell_type": "code",
   "execution_count": 19,
   "metadata": {},
   "outputs": [
    {
     "name": "stdout",
     "output_type": "stream",
     "text": [
      "5\n"
     ]
    }
   ],
   "source": [
    "# На примере массива x = np.array([6, 2, 0, 3, 0, 0, 5, 7, 0]) \n",
    "# найдите максимальный элемент в массиве среди элементов,\n",
    "# перед которыми стоит ноль.\n",
    "\n",
    "x = np.array([6, 2, 0, 3, 0, 0, 5, 7, 0])\n",
    "\n",
    "mi=0\n",
    "for i in range (1,7):\n",
    "    if x[i-1]==0:\n",
    "        if x[i] > mi :\n",
    "            mi = x[i]\n",
    "print(mi)\n",
    "        \n"
   ]
  },
  {
   "cell_type": "code",
   "execution_count": 20,
   "metadata": {},
   "outputs": [
    {
     "name": "stdout",
     "output_type": "stream",
     "text": [
      "Before: \n",
      "[1. 1. 1. 1. 1. 1. 1. 1. 1. 1.]\n",
      "After: \n",
      "[2. 2. 2. 2. 1. 4. 1. 1. 2. 1.]\n"
     ]
    }
   ],
   "source": [
    "# Пусть заданы два массива x = np.ones(10) и \n",
    "# a = np.array([0, 1, 2, 3, 5, 5, 5, 8]). Прибавьте единицу к тем элементам \n",
    "# массива x, индексы которых указаны в массиве a. В случае, если некоторый\n",
    "# индекс встретился в массиве a несколько раз, прибавьте к соответствующему \n",
    "# элементу массива x число вхождений данного индекса в массив a.\n",
    "\n",
    "x=np.ones(10)\n",
    "a=np.array([0, 1, 2, 3, 5, 5, 5, 8])\n",
    "\n",
    "\n",
    "print(\"Before: \")\n",
    "print(x)\n",
    "\n",
    "for i in range(9):\n",
    "    for j in range(8):\n",
    "        if a[j] == i :\n",
    "            x[i] += 1\n",
    "            \n",
    "print(\"After: \")\n",
    "print(x)\n",
    "\n"
   ]
  },
  {
   "cell_type": "code",
   "execution_count": 21,
   "metadata": {},
   "outputs": [
    {
     "name": "stdout",
     "output_type": "stream",
     "text": [
      "Matrix: \n",
      "[[ 0  1  2  3]\n",
      " [ 4  5  6  7]\n",
      " [ 8  9 10 11]\n",
      " [12 13 14 15]]\n",
      "\n",
      "dict = \n",
      "{0: [0], 1: [1, 4], 2: [2, 5, 8], 3: [3, 6, 9, 12], 4: [7, 10, 13], 5: [11, 14], 6: [15]}\n"
     ]
    }
   ],
   "source": [
    "# По заданному двумерному массиву размера NxN постройте словарь, \n",
    "# ключи которого - индексы диагоналей, параллельных побочной \n",
    "# (нумерация начинается с 0), а значения - списки элементов исходного массива, \n",
    "# лежащих на соответствующих диагоналях. Решите задачу на примере массива \n",
    "# a = np.arange(16).reshape(4, 4), в результате должен получиться словарь\n",
    "# {0: [0], 1: [1, 4], 2: [2, 5, 8], 3: [3, 6, 9, 12], 4: [7, 10, 13], 5: [11, 14], 6: [15]}.\n",
    "\n",
    "a = np.arange(16).reshape(4, 4)\n",
    "N=4\n",
    "print(\"Matrix: \")\n",
    "print(a)\n",
    "print(\"\")\n",
    "\n",
    "\n",
    "l=[]\n",
    "slov={}\n",
    "i=0; j=0; k=0; p=0\n",
    "\n",
    "for k in range(2*N-1):     #keys\n",
    "    \n",
    "    for i in range (N):\n",
    "        for j in range (N):\n",
    "            if i+j == p :\n",
    "                l.append(a[i,j])\n",
    "    p += 1\n",
    "    slov[k] = l\n",
    "    l = []\n",
    "\n",
    "print(\"dict = \")\n",
    "print(slov)\n",
    "\n",
    "                    \n",
    "\n",
    "\n"
   ]
  },
  {
   "cell_type": "code",
   "execution_count": 4,
   "metadata": {},
   "outputs": [
    {
     "name": "stdout",
     "output_type": "stream",
     "text": [
      "3\n"
     ]
    }
   ],
   "source": [
    "# K-MEANS   in   R^2\n",
    "\n",
    "def d(a, b, m):\n",
    "    w=0\n",
    "    for i in range(m):\n",
    "        w += (a[i]-b[i])**2\n",
    "    return w\n",
    "\n",
    "def middle(a, b, m):\n",
    "    mid = []\n",
    "    for i in range(n):\n",
    "        mid.append((a[i]-b[i])/2)\n",
    "    return mid\n",
    "\n",
    "\n",
    "a = np.arange(16).reshape(4, 4)\n",
    "\n",
    "n=4\n",
    "m=4\n",
    "k=3 \n",
    "l=[]\n",
    "klasters = {}\n",
    "spisok = []\n",
    "ism = 10\n",
    "\n",
    "for i in range (k):\n",
    "    p = random.randint(0,n-1)\n",
    "    l.append(a[p])\n",
    "    \n",
    "for i in range (k):\n",
    "    t=[]\n",
    "    t.append(l[i])\n",
    "    spisok.append(t)\n",
    "    \n",
    "# while ism > 0.1 :\n",
    "    \n",
    "\n",
    "    ism = 0\n",
    "    for i in range (n):  # распределение по кластерам\n",
    "        mi = 1000\n",
    "        for j in range(k):\n",
    "            if d(a[i],l[j],m) < mi :\n",
    "                mi = d(a[i],l[j],m)\n",
    "                \n",
    "                # не проходит\n",
    "                \n",
    "      #          for q in range(k-1):\n",
    "     #               spisok[q].remove(a[i])  #удаление из всех подсписков\n",
    "      #          spisok[j].append(a[i])      #добавление в ЭТОТ подсписок\n",
    "            \n",
    "  #  for i in range (k):   # пересчет центра масс\n",
    "    #    dlina = len(spisok[i])  # \n",
    "    #    mid = spisok[i][0]\n",
    "    \n",
    "   #     for j in range(1, dlina):\n",
    "   #         mid = middle(mid, spisok[i][j], m)\n",
    "   #     ism += d(mid, l[i], m)\n",
    "   #     l[i] = mid\n",
    "\n",
    "\n",
    "print(k)\n",
    "    \n",
    "    \n",
    "# расстояние точек до каждого из кластеров\n",
    "# минимальное расстояние обозначит принаблежность кластеру\n",
    "# счет центра масс\n",
    "# повтор, пока суммарное изменение не будет меньше порогового epsilon\n",
    "\n",
    "\n",
    "\n"
   ]
  },
  {
   "cell_type": "code",
   "execution_count": 28,
   "metadata": {},
   "outputs": [
    {
     "name": "stdout",
     "output_type": "stream",
     "text": [
      "[array([4, 5, 6, 7]), array([4, 5, 6, 7]), array([4, 5, 6, 7])]\n",
      "[4 5 6 7]\n",
      "7\n"
     ]
    }
   ],
   "source": [
    "print(l)\n",
    "print(l[1])\n",
    "print(l[1][3])"
   ]
  },
  {
   "cell_type": "code",
   "execution_count": 27,
   "metadata": {},
   "outputs": [
    {
     "name": "stdout",
     "output_type": "stream",
     "text": [
      "[[1, 3], 2]\n"
     ]
    }
   ],
   "source": [
    "d = []\n",
    "b = []\n",
    "b.append(1)\n",
    "d.append(b)\n",
    "d.append(2)\n",
    "d[0].append(3)\n",
    "\n",
    "print (d)"
   ]
  },
  {
   "cell_type": "code",
   "execution_count": null,
   "metadata": {},
   "outputs": [],
   "source": []
  },
  {
   "cell_type": "code",
   "execution_count": null,
   "metadata": {},
   "outputs": [],
   "source": []
  }
 ],
 "metadata": {
  "kernelspec": {
   "display_name": "Python 3",
   "language": "python",
   "name": "python3"
  },
  "language_info": {
   "codemirror_mode": {
    "name": "ipython",
    "version": 3
   },
   "file_extension": ".py",
   "mimetype": "text/x-python",
   "name": "python",
   "nbconvert_exporter": "python",
   "pygments_lexer": "ipython3",
   "version": "3.7.1"
  }
 },
 "nbformat": 4,
 "nbformat_minor": 2
}
