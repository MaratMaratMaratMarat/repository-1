{
 "cells": [
  {
   "cell_type": "code",
   "execution_count": 1,
   "metadata": {},
   "outputs": [],
   "source": [
    "import numpy as np\n",
    "import random\n",
    "import scipy\n",
    "import math"
   ]
  },
  {
   "cell_type": "code",
   "execution_count": 50,
   "metadata": {},
   "outputs": [
    {
     "ename": "IndexError",
     "evalue": "pop from empty list",
     "output_type": "error",
     "traceback": [
      "\u001b[1;31m---------------------------------------------------------------------------\u001b[0m",
      "\u001b[1;31mIndexError\u001b[0m                                Traceback (most recent call last)",
      "\u001b[1;32m<ipython-input-50-6191f68a9168>\u001b[0m in \u001b[0;36m<module>\u001b[1;34m\u001b[0m\n\u001b[0;32m     55\u001b[0m \u001b[1;33m\u001b[0m\u001b[0m\n\u001b[0;32m     56\u001b[0m                 \u001b[1;32mfor\u001b[0m \u001b[0mq\u001b[0m \u001b[1;32min\u001b[0m \u001b[0mrange\u001b[0m\u001b[1;33m(\u001b[0m\u001b[0mk\u001b[0m\u001b[1;33m)\u001b[0m\u001b[1;33m:\u001b[0m\u001b[1;33m\u001b[0m\u001b[1;33m\u001b[0m\u001b[0m\n\u001b[1;32m---> 57\u001b[1;33m                     \u001b[0mspisok\u001b[0m\u001b[1;33m[\u001b[0m\u001b[0mq\u001b[0m\u001b[1;33m]\u001b[0m\u001b[1;33m.\u001b[0m\u001b[0mpop\u001b[0m\u001b[1;33m(\u001b[0m\u001b[0mi\u001b[0m\u001b[1;33m)\u001b[0m  \u001b[1;31m#удаление из всех подсписков\u001b[0m\u001b[1;33m\u001b[0m\u001b[1;33m\u001b[0m\u001b[0m\n\u001b[0m\u001b[0;32m     58\u001b[0m                 \u001b[0mspisok\u001b[0m\u001b[1;33m[\u001b[0m\u001b[0mj\u001b[0m\u001b[1;33m]\u001b[0m\u001b[1;33m.\u001b[0m\u001b[0mappend\u001b[0m\u001b[1;33m(\u001b[0m\u001b[0ma\u001b[0m\u001b[1;33m[\u001b[0m\u001b[0mi\u001b[0m\u001b[1;33m]\u001b[0m\u001b[1;33m)\u001b[0m      \u001b[1;31m#добавление в ЭТОТ подсписок\u001b[0m\u001b[1;33m\u001b[0m\u001b[1;33m\u001b[0m\u001b[0m\n\u001b[0;32m     59\u001b[0m \u001b[1;33m\u001b[0m\u001b[0m\n",
      "\u001b[1;31mIndexError\u001b[0m: pop from empty list"
     ]
    }
   ],
   "source": [
    "# K-MEANS   in   R^2\n",
    "\n",
    "def d(a, b, m):\n",
    "    w=0\n",
    "    for i in range(m):\n",
    "        w += (a[i]-b[i])**2\n",
    "    return w\n",
    "\n",
    "def middle(a, b, m):\n",
    "    mid = []\n",
    "    for i in range(n):\n",
    "        mid.append((a[i]-b[i])/2)\n",
    "    return mid\n",
    "\n",
    "\n",
    "a = np.arange(16).reshape(4, 4)\n",
    "\n",
    "n=4\n",
    "m=4\n",
    "k=3 \n",
    "l=[]\n",
    "c = []\n",
    "klasters = {}\n",
    "spisok = []\n",
    "ism = 10\n",
    "\n",
    "for i in range (k):                 # рандомный выбор центроида \n",
    "    p = random.randint(0,n-1)       # исправить возможный выбор нескольких одинаковых p\n",
    "   # if l.count(a[p]) == 0:\n",
    "    #    l.append(a[p])\n",
    "  #  else:\n",
    "   #     i -= 1\n",
    "    \n",
    "    ###### ValueError: The truth value of an array with more than one element is ambiguous.\n",
    "    ###### Use a.any() or a.all()\n",
    "    c.append(a[p])\n",
    "    l.append(c[i])  ##сразу знаем индекс точки\n",
    "    \n",
    "for i in range (k):   #создание списка(spisok) кластеров с точками(t)\n",
    "    t=[]\n",
    "    t.append(l[i])\n",
    "    spisok.append(t)\n",
    "    \n",
    "while ism > 0.1 :\n",
    "    \n",
    "\n",
    "    ism = 0\n",
    "    for i in range (n):  # распределение по кластерам\n",
    "        mi = 1000\n",
    "        for j in range(k):\n",
    "            if d(a[i],l[j],m) < mi :\n",
    "                mi = d(a[i],l[j],m)\n",
    "                \n",
    "                # не проходит\n",
    "                \n",
    "                for q in range(k):\n",
    "                    spisok[q].pop(i)  #удаление из всех подсписков\n",
    "                spisok[j].append(a[i])      #добавление в ЭТОТ подсписок\n",
    "            \n",
    "    for i in range (k):   # пересчет центра масс\n",
    "        dlina = len(spisok[i])  # \n",
    "        mid = spisok[i][0]\n",
    "    \n",
    "        for j in range(1, dlina):\n",
    "            mid = middle(mid, spisok[i][j], m)\n",
    "        ism += d(mid, l[i], m)\n",
    "        l[i] = mid\n",
    "\n",
    "\n",
    "print(k)\n",
    "print(l)\n",
    "print(mi)\n",
    "print(ism)\n",
    "    \n",
    "# расстояние точек до каждого из кластеров\n",
    "# минимальное расстояние обозначит принаблежность кластеру\n",
    "# счет центра масс\n",
    "# повтор, пока суммарное изменение не будет меньше порогового epsilon\n",
    "\n",
    "\n"
   ]
  },
  {
   "cell_type": "code",
   "execution_count": 26,
   "metadata": {},
   "outputs": [
    {
     "name": "stdout",
     "output_type": "stream",
     "text": [
      "[array([0, 1, 2, 3]), array([4, 5, 6, 7]), array([12, 13, 14, 15])]\n",
      "[4 5 6 7]\n",
      "7\n",
      "[[1, 3], 2]\n"
     ]
    }
   ],
   "source": [
    "print(l)\n",
    "print(l[1])\n",
    "print(l[1][3])\n",
    "d = []\n",
    "b = []\n",
    "c = []\n",
    "b.append(1)\n",
    "d.append(b)\n",
    "d.append(2)\n",
    "b.append(c)\n",
    "c.append(5)\n",
    "d[0].append(3)\n",
    "d[0].remove(c)\n",
    "\n",
    "print (d)"
   ]
  },
  {
   "cell_type": "code",
   "execution_count": 40,
   "metadata": {},
   "outputs": [
    {
     "name": "stdout",
     "output_type": "stream",
     "text": [
      "[ 8  9 10 11]\n",
      "[array([4, 5, 6, 7]), array([12, 13, 14, 15])]\n",
      "[12 13 14 15]\n"
     ]
    },
    {
     "ename": "ValueError",
     "evalue": "The truth value of an array with more than one element is ambiguous. Use a.any() or a.all()",
     "output_type": "error",
     "traceback": [
      "\u001b[1;31m---------------------------------------------------------------------------\u001b[0m",
      "\u001b[1;31mValueError\u001b[0m                                Traceback (most recent call last)",
      "\u001b[1;32m<ipython-input-40-e7dac4a7a541>\u001b[0m in \u001b[0;36m<module>\u001b[1;34m\u001b[0m\n\u001b[0;32m      2\u001b[0m \u001b[0mprint\u001b[0m\u001b[1;33m(\u001b[0m\u001b[0ml\u001b[0m\u001b[1;33m)\u001b[0m\u001b[1;33m\u001b[0m\u001b[1;33m\u001b[0m\u001b[0m\n\u001b[0;32m      3\u001b[0m \u001b[0mprint\u001b[0m\u001b[1;33m(\u001b[0m\u001b[0ml\u001b[0m\u001b[1;33m[\u001b[0m\u001b[1;36m1\u001b[0m\u001b[1;33m]\u001b[0m\u001b[1;33m)\u001b[0m\u001b[1;33m\u001b[0m\u001b[1;33m\u001b[0m\u001b[0m\n\u001b[1;32m----> 4\u001b[1;33m \u001b[0mprint\u001b[0m\u001b[1;33m(\u001b[0m\u001b[0ml\u001b[0m\u001b[1;33m.\u001b[0m\u001b[0mindex\u001b[0m\u001b[1;33m(\u001b[0m\u001b[0ma\u001b[0m\u001b[1;33m[\u001b[0m\u001b[1;36m2\u001b[0m\u001b[1;33m]\u001b[0m\u001b[1;33m)\u001b[0m\u001b[1;33m)\u001b[0m\u001b[1;33m\u001b[0m\u001b[1;33m\u001b[0m\u001b[0m\n\u001b[0m\u001b[0;32m      5\u001b[0m \u001b[0mprint\u001b[0m\u001b[1;33m(\u001b[0m\u001b[0ml\u001b[0m\u001b[1;33m)\u001b[0m\u001b[1;33m\u001b[0m\u001b[1;33m\u001b[0m\u001b[0m\n",
      "\u001b[1;31mValueError\u001b[0m: The truth value of an array with more than one element is ambiguous. Use a.any() or a.all()"
     ]
    }
   ],
   "source": [
    "print(a[2])\n",
    "print(l)\n",
    "print(l[1])\n",
    "print(l.index(a[2]))\n",
    "print(l)"
   ]
  },
  {
   "cell_type": "code",
   "execution_count": 46,
   "metadata": {},
   "outputs": [
    {
     "name": "stdout",
     "output_type": "stream",
     "text": [
      "[array([12, 13, 14, 15]), array([12, 13, 14, 15]), array([0, 1, 2, 3])]\n",
      "[array([12, 13, 14, 15]), array([12, 13, 14, 15]), array([0, 1, 2, 3])]\n"
     ]
    }
   ],
   "source": [
    "c=[]\n",
    "l=[]\n",
    "for i in range (k):                 # рандомный выбор центроида \n",
    "    p = random.randint(0,n-1)\n",
    "    c.append(a[p])\n",
    "    l.append(c[i])\n",
    "    \n",
    "print(l)\n",
    "print(c)"
   ]
  },
  {
   "cell_type": "code",
   "execution_count": null,
   "metadata": {},
   "outputs": [],
   "source": []
  }
 ],
 "metadata": {
  "kernelspec": {
   "display_name": "Python 3",
   "language": "python",
   "name": "python3"
  },
  "language_info": {
   "codemirror_mode": {
    "name": "ipython",
    "version": 3
   },
   "file_extension": ".py",
   "mimetype": "text/x-python",
   "name": "python",
   "nbconvert_exporter": "python",
   "pygments_lexer": "ipython3",
   "version": "3.7.1"
  }
 },
 "nbformat": 4,
 "nbformat_minor": 2
}
