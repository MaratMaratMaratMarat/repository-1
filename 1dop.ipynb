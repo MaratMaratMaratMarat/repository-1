{
 "cells": [
  {
   "cell_type": "code",
   "execution_count": 2,
   "metadata": {},
   "outputs": [
    {
     "name": "stdout",
     "output_type": "stream",
     "text": [
      "Enter the string\n",
      "hoooooooooooooooh\n",
      "polyndrom\n"
     ]
    }
   ],
   "source": [
    "# STRING LISTS\n",
    "\n",
    "print(\"Enter the string\")\n",
    "s = str(input())\n",
    "l = len(s)\n",
    "p = 0\n",
    "\n",
    "for i in range(l//2):\n",
    "    if s[i] != s[l-1-i] :\n",
    "        p += 1\n",
    "if p == 0 :\n",
    "    print(\"polyndrom\")\n",
    "else :\n",
    "    print(\"Not polyndrome\")\n",
    "    \n",
    "    "
   ]
  },
  {
   "cell_type": "code",
   "execution_count": 8,
   "metadata": {},
   "outputs": [
    {
     "name": "stdout",
     "output_type": "stream",
     "text": [
      "Enter the string\n",
      "My name is Marat Khasanov\n",
      "\n",
      "Result string is: \n",
      "Khasanov Marat is name My\n"
     ]
    }
   ],
   "source": [
    "# REVERSE WORD ORDER\n",
    "\n",
    "print(\"Enter the string\")\n",
    "s = str(input())\n",
    "res = s.split()\n",
    "res.reverse()\n",
    "result = \" \".join(res)\n",
    "print(\"\")\n",
    "print(\"Result string is: \")\n",
    "print(result)\n",
    "\n",
    "\n"
   ]
  },
  {
   "cell_type": "code",
   "execution_count": null,
   "metadata": {},
   "outputs": [],
   "source": []
  },
  {
   "cell_type": "code",
   "execution_count": null,
   "metadata": {},
   "outputs": [],
   "source": []
  }
 ],
 "metadata": {
  "kernelspec": {
   "display_name": "Python 3",
   "language": "python",
   "name": "python3"
  },
  "language_info": {
   "codemirror_mode": {
    "name": "ipython",
    "version": 3
   },
   "file_extension": ".py",
   "mimetype": "text/x-python",
   "name": "python",
   "nbconvert_exporter": "python",
   "pygments_lexer": "ipython3",
   "version": "3.7.1"
  }
 },
 "nbformat": 4,
 "nbformat_minor": 2
}
