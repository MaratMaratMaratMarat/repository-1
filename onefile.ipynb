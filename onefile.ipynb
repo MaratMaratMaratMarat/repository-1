{
 "cells": [
  {
   "cell_type": "code",
   "execution_count": 1,
   "metadata": {},
   "outputs": [
    {
     "name": "stdout",
     "output_type": "stream",
     "text": [
      "Hello World\n"
     ]
    }
   ],
   "source": [
    "print(\"Hello World\")"
   ]
  },
  {
   "cell_type": "code",
   "execution_count": 5,
   "metadata": {},
   "outputs": [
    {
     "name": "stdout",
     "output_type": "stream",
     "text": [
      "0.883 0.5205 0.4404 \n",
      "0.5 0.7056 0.1938 \n",
      "0.8867 0.2754 0.858 \n",
      "0.3816 0.3782 0.592 \n",
      "0.93 0.9844 0.8306 \n",
      "0.0954 0.5283 0.7812 \n",
      "0.3887 0.564 0.6323 \n",
      "0.619 0.7583 0.5503 \n",
      "0.1777 0.638 0.6646 \n",
      "0.3794 0.04254 0.01511 \n",
      "\n",
      "0.5205\n",
      "0.5\n",
      "0.2754\n",
      "0.592\n",
      "0.8306\n",
      "0.5283\n",
      "0.564\n",
      "0.5503\n",
      "0.638\n",
      "0.3794\n"
     ]
    }
   ],
   "source": [
    "#Создайте двумерный массив 10x3, заполненный случайными значениями. В каждой строке выберите значение, наиболее близкое к 0.5.\n",
    "\n",
    "import numpy as np\n",
    "import random\n",
    "#с помощью np.random.random((10,3)) задать не вышло (не работало почему-то) - сделал по-своему:\n",
    "arrayone = np.arange(30, dtype = np.float16).reshape((10,3))\n",
    "i = int(0)\n",
    "j = int(0)\n",
    "minim = float()\n",
    "\n",
    "while i < 10:\n",
    "    while j < 3:\n",
    "        arrayone[i, j] = random.random()\n",
    "        print(arrayone[i, j], end = \" \")\n",
    "        j += 1\n",
    "    print()\n",
    "    i += 1\n",
    "    j = 0\n",
    "    \n",
    "print()\n",
    "\n",
    "i=0\n",
    "j=0\n",
    "while i < 10:\n",
    "    minim = arrayone[i,0]\n",
    "    while j < 3:\n",
    "        if (abs(arrayone[i,j] - 0.5) <= abs(minim - 0.5)) :\n",
    "            minim = arrayone[i,j]\n",
    "        j += 1\n",
    "    print(minim)\n",
    "    i += 1\n",
    "    j = 0"
   ]
  },
  {
   "cell_type": "code",
   "execution_count": null,
   "metadata": {},
   "outputs": [],
   "source": []
  }
 ],
 "metadata": {
  "kernelspec": {
   "display_name": "Python 3",
   "language": "python",
   "name": "python3"
  },
  "language_info": {
   "codemirror_mode": {
    "name": "ipython",
    "version": 3
   },
   "file_extension": ".py",
   "mimetype": "text/x-python",
   "name": "python",
   "nbconvert_exporter": "python",
   "pygments_lexer": "ipython3",
   "version": "3.7.1"
  }
 },
 "nbformat": 4,
 "nbformat_minor": 2
}
