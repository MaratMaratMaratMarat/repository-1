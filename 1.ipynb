{
 "cells": [
  {
   "cell_type": "code",
   "execution_count": 16,
   "metadata": {},
   "outputs": [
    {
     "name": "stdout",
     "output_type": "stream",
     "text": [
      "Enter an integer number\n",
      "14756\n",
      "The number is even and devided by 4\n",
      "enter an another integer number\n",
      "16\n",
      "14756 is not devisible by 16\n"
     ]
    }
   ],
   "source": [
    "# ODD OR EVEN\n",
    "print (\"Enter an integer number\")\n",
    "n = int(input())\n",
    "\n",
    "if n % 2 == 0:\n",
    "    if n % 4 == 0:\n",
    "        print (\"The number is even and devided by 4\")\n",
    "    else:\n",
    "        print (\"This number is even but not devisible by 4\")\n",
    "else:\n",
    "    print (\"This number is odd\")\n",
    "    \n",
    "print (\"enter an another integer number\")\n",
    "m = int(input())\n",
    "\n",
    "if n % m == 0:\n",
    "    print (str(n) + \" is devided by \" + str(m) )\n",
    "else :\n",
    "    print (str(n) + \" is not devisible by \" + str(m))"
   ]
  },
  {
   "cell_type": "code",
   "execution_count": 23,
   "metadata": {},
   "outputs": [
    {
     "name": "stdout",
     "output_type": "stream",
     "text": [
      "How many fibnacci numbers do you want to see?\n",
      "13\n",
      "[1, 1, 2, 3, 5, 8, 13, 21, 34, 55, 89, 144, 233]\n"
     ]
    }
   ],
   "source": [
    "#FIBONACCI\n",
    "print (\"How many fibnacci numbers do you want to see?\")\n",
    "how = int(input())\n",
    "\n",
    "if how == 0:\n",
    "    print(\"HY OK...\")\n",
    "elif how == 1:\n",
    "    print(\"1\")\n",
    "elif how == 2:\n",
    "    print(\"1,1\")\n",
    "elif how > 2:\n",
    "    fibo = [1,1]\n",
    "    n=1\n",
    "    while n < (how-1) :\n",
    "        fibo.append(fibo[n] + fibo[n-1])\n",
    "        n += 1\n",
    "    print (fibo)"
   ]
  },
  {
   "cell_type": "code",
   "execution_count": 24,
   "metadata": {},
   "outputs": [
    {
     "name": "stdout",
     "output_type": "stream",
     "text": [
      "How many fibnacci numbers do you want to see?\n",
      "7\n",
      "[1, 1, 2, 3, 5, 8, 13]\n"
     ]
    }
   ],
   "source": [
    "#FIBONACCI by functions\n",
    "print (\"How many fibnacci numbers do you want to see?\")\n",
    "how = int(input())\n",
    "\n",
    "def fibonacci():\n",
    "    \n",
    "    if how == 0:\n",
    "        return 0\n",
    "    elif how == 1:\n",
    "        fibo = [1]\n",
    "        return fibo\n",
    "    elif how == 2:\n",
    "        fibo = [1,1]\n",
    "        return fibo\n",
    "    elif how > 2:\n",
    "        fibo = [1,1]\n",
    "        n=1\n",
    "        while n < (how-1) :\n",
    "            fibo.append(fibo[n] + fibo[n-1])\n",
    "            n += 1\n",
    "        return fibo\n",
    "    \n",
    "print(fibonacci())\n",
    "\n",
    "if fibonacci() == 0:\n",
    "    print(\"HY OK\")"
   ]
  },
  {
   "cell_type": "code",
   "execution_count": null,
   "metadata": {},
   "outputs": [],
   "source": []
  }
 ],
 "metadata": {
  "kernelspec": {
   "display_name": "Python 3",
   "language": "python",
   "name": "python3"
  },
  "language_info": {
   "codemirror_mode": {
    "name": "ipython",
    "version": 3
   },
   "file_extension": ".py",
   "mimetype": "text/x-python",
   "name": "python",
   "nbconvert_exporter": "python",
   "pygments_lexer": "ipython3",
   "version": "3.7.1"
  }
 },
 "nbformat": 4,
 "nbformat_minor": 2
}
