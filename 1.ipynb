{
 "cells": [
  {
   "cell_type": "code",
   "execution_count": 16,
   "metadata": {},
   "outputs": [
    {
     "name": "stdout",
     "output_type": "stream",
     "text": [
      "Enter an integer number\n",
      "14756\n",
      "The number is even and devided by 4\n",
      "enter an another integer number\n",
      "16\n",
      "14756 is not devisible by 16\n"
     ]
    }
   ],
   "source": [
    "# ODD OR EVEN\n",
    "print (\"Enter an integer number\")\n",
    "n = int(input())\n",
    "\n",
    "if n % 2 == 0:\n",
    "    if n % 4 == 0:\n",
    "        print (\"The number is even and devided by 4\")\n",
    "    else:\n",
    "        print (\"This number is even but not devisible by 4\")\n",
    "else:\n",
    "    print (\"This number is odd\")\n",
    "    \n",
    "print (\"enter an another integer number\")\n",
    "m = int(input())\n",
    "\n",
    "if n % m == 0:\n",
    "    print (str(n) + \" is devided by \" + str(m) )\n",
    "else :\n",
    "    print (str(n) + \" is not devisible by \" + str(m))"
   ]
  },
  {
   "cell_type": "code",
   "execution_count": 23,
   "metadata": {},
   "outputs": [
    {
     "name": "stdout",
     "output_type": "stream",
     "text": [
      "How many fibnacci numbers do you want to see?\n",
      "13\n",
      "[1, 1, 2, 3, 5, 8, 13, 21, 34, 55, 89, 144, 233]\n"
     ]
    }
   ],
   "source": [
    "#FIBONACCI\n",
    "print (\"How many fibnacci numbers do you want to see?\")\n",
    "how = int(input())\n",
    "\n",
    "if how == 0:\n",
    "    print(\"HY OK...\")\n",
    "elif how == 1:\n",
    "    print(\"1\")\n",
    "elif how == 2:\n",
    "    print(\"1,1\")\n",
    "elif how > 2:\n",
    "    fibo = [1,1]\n",
    "    n=1\n",
    "    while n < (how-1) :\n",
    "        fibo.append(fibo[n] + fibo[n-1])\n",
    "        n += 1\n",
    "    print (fibo)"
   ]
  },
  {
   "cell_type": "code",
   "execution_count": 4,
   "metadata": {},
   "outputs": [
    {
     "name": "stdout",
     "output_type": "stream",
     "text": [
      "How many fibnacci numbers do you want to see?\n",
      "14\n",
      "[1, 1, 2, 3, 5, 8, 13, 21, 34, 55, 89, 144, 233, 377]\n"
     ]
    }
   ],
   "source": [
    "#FIBONACCI by functions\n",
    "print (\"How many fibnacci numbers do you want to see?\")\n",
    "how = int(input())\n",
    "\n",
    "def fibonacci():\n",
    "    \n",
    "    if how == 0:\n",
    "        return 0\n",
    "    elif how == 1:\n",
    "        fibo = [1]\n",
    "        return fibo\n",
    "    elif how == 2:\n",
    "        fibo = [1,1]\n",
    "        return fibo\n",
    "    elif how > 2:\n",
    "        fibo = [1,1]\n",
    "        n=1\n",
    "        while n < (how-1) :\n",
    "            fibo.append(fibo[n] + fibo[n-1])\n",
    "            n += 1\n",
    "        return fibo\n",
    "    \n",
    "print(fibonacci())\n",
    "\n",
    "if fibonacci() == 0:\n",
    "    print(\"HY OK\")\n",
    "    "
   ]
  },
  {
   "cell_type": "code",
   "execution_count": null,
   "metadata": {},
   "outputs": [],
   "source": [
    "\n"
   ]
  },
  {
   "cell_type": "code",
   "execution_count": null,
   "metadata": {},
   "outputs": [
    {
     "name": "stdout",
     "output_type": "stream",
     "text": [
      "Enter the number you guess: \n",
      "5\n",
      "Too high\n",
      "Enter the number you guess: \n",
      "3\n",
      "Too low\n",
      "Enter the number you guess: \n",
      "4\n",
      "EXACTLY !!!!!!!\n",
      "You had 3 tries\n",
      "Enter the number you guess: \n"
     ]
    }
   ],
   "source": [
    "#GUESSING GAME ONE\n",
    "\n",
    "import random\n",
    "\n",
    "num = random.randint(1,9)\n",
    "enter = 0\n",
    "k = 0\n",
    "\n",
    "\n",
    "while enter != (num and enter != \"exit\"):\n",
    "    print(\"Enter the number you guess: \")\n",
    "    enter = input()\n",
    "    \n",
    "    if enter == \"exit\":\n",
    "        break\n",
    "    \n",
    "    enter = int(enter)\n",
    "    k += 1\n",
    "    \n",
    "    if enter < num:\n",
    "        print(\"Too low\")\n",
    "    elif enter > num:\n",
    "        print(\"Too high\")\n",
    "    else:\n",
    "        print(\"EXACTLY !!!!!!!\")\n",
    "        print(\"You had\",k,\"tries\")\n",
    "    "
   ]
  },
  {
   "cell_type": "code",
   "execution_count": 1,
   "metadata": {},
   "outputs": [],
   "source": []
  },
  {
   "cell_type": "code",
   "execution_count": 1,
   "metadata": {},
   "outputs": [
    {
     "name": "stdout",
     "output_type": "stream",
     "text": [
      "Enter the difficulty level of wanted password: \n",
      "(1 - low, 2 - medium, 3 - hard, 4 - pentagon level)\n",
      "4\n",
      "Your password is: \n",
      "*%Sr:91@9ZwB9i886rvc24D2aK!h69"
     ]
    }
   ],
   "source": [
    "# PASSWORD GENERATOR\n",
    "import random\n",
    "\n",
    "pb = [\"a\",\"b\",\"c\",\"d\",\"e\",\"f\",\"g\",\"h\",\"i\",\"j\",\"k\",\"l\",\"m\",\"n\",\"o\",\"p\",\"q\",\"r\",\"s\",\"t\",\"u\",\"v\",\"w\",\"x\",\"y\",\"z\"]  #26\n",
    "zb = [\"A\",\"B\",\"C\",\"D\",\"E\",\"F\",\"G\",\"H\",\"I\",\"L\",\"K\",\"L\",\"M\",\"N\",\"O\",\"P\",\"Q\",\"R\",\"S\",\"T\",\"U\",\"V\",\"W\",\"X\",\"Y\",\"Z\"]\n",
    "num = [0,1,2,3,4,5,6,7,8,9,0,1,2,3,4,5,6,7,8,9,0,1,2,3,4,5] # 26\n",
    "znak = [\".\",\"_\",\"-\",\"+\",\"/\",\"!\",\"@\",\"#\",\"%\",\"^\",\"&\",\"*\",\"(\",\")\",\"<\",\">\",\"?\",\";\",\":\",\".\",\"_\",\"-\",\"+\",\"/\",\"!\",\"@\"] #26\n",
    "pas = [pb,num,zb,znak]\n",
    "\n",
    "i = random.randint(0,25)\n",
    "\n",
    "print(\"Enter the difficulty level of wanted password: \")\n",
    "print(\"(1 - low, 2 - medium, 3 - hard, 4 - pentagon level)\")\n",
    "level = int(input())\n",
    "\n",
    "if level == 1 :\n",
    "    print(\"Your password is: \")\n",
    "    for i in range(6):\n",
    "        r = random.randint(0,1)\n",
    "        t = random.randint(0,25)\n",
    "        print(pas[r][t], end = \"\")\n",
    "elif level == 2 :\n",
    "    print(\"Your password is: \")\n",
    "    for i in range(7):\n",
    "        r = random.randint(0,2)\n",
    "        t = random.randint(0,25)\n",
    "        print(pas[r][t], end = \"\")\n",
    "elif level == 3 :\n",
    "    print(\"Your password is: \")\n",
    "    for i in range(8):\n",
    "        r = random.randint(0,3)\n",
    "        t = random.randint(0,25)\n",
    "        print(pas[r][t], end = \"\")\n",
    "elif level == 4 :\n",
    "    print(\"Your password is: \")\n",
    "    for i in range(30) :\n",
    "        r = random.randint(0,3)\n",
    "        t = random.randint(0,25)\n",
    "        print(pas[r][t], end = \"\")\n",
    "else:\n",
    "    print(\"There's no such difficulty level\")"
   ]
  },
  {
   "cell_type": "code",
   "execution_count": null,
   "metadata": {},
   "outputs": [],
   "source": []
  },
  {
   "cell_type": "code",
   "execution_count": null,
   "metadata": {},
   "outputs": [],
   "source": []
  }
 ],
 "metadata": {
  "kernelspec": {
   "display_name": "Python 3",
   "language": "python",
   "name": "python3"
  },
  "language_info": {
   "codemirror_mode": {
    "name": "ipython",
    "version": 3
   },
   "file_extension": ".py",
   "mimetype": "text/x-python",
   "name": "python",
   "nbconvert_exporter": "python",
   "pygments_lexer": "ipython3",
   "version": "3.7.1"
  }
 },
 "nbformat": 4,
 "nbformat_minor": 2
}
